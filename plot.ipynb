{
 "cells": [
  {
   "cell_type": "code",
   "execution_count": null,
   "metadata": {},
   "outputs": [],
   "source": [
    "%matplotlib inline\n",
    "\n",
    "from networkx.algorithms import connectivity as conn\n",
    "from matplotlib import pyplot as plt\n",
    "import matplotlib.colors as mcolors\n",
    "from tools import utils\n",
    "import networkx as nx\n",
    "import time \n",
    "import os\n",
    "import glob\n",
    "import json\n",
    "\n",
    "os.chdir(\"D:\\Documenti\\Lightning Network Plots\")\n",
    "graphs_list = [None] * len(glob.glob(\"*json\"))\n",
    "distance_list = [None] * len(glob.glob(\"*json\"))\n",
    "nodes_size_list = [None] * len(glob.glob(\"*json\"))\n",
    "edges_size_list = [None] * len(glob.glob(\"*json\"))\n",
    "avg_degree_list = [None] * len(glob.glob(\"*json\"))\n",
    "eccentricity_list = [None] * len(glob.glob(\"*json\"))\n",
    "k_connectivity_list = [None] * len(glob.glob(\"*json\"))\n",
    "betweenness_centrality_lists = [None] * len(glob.glob(\"*json\"))\n",
    "# Sets the picture size to a proper dimension.\n",
    "plt.rcParams['figure.figsize'] = (10, 6)\n",
    "\n",
    "# Create an array of snapshots of the network\n",
    "for i, file in enumerate(glob.glob(\"*.json\")):\n",
    "    with open(file) as f:\n",
    "        json_graph = json.load(f)\n",
    "        graph = utils.parse_graph_from_json(json_graph)\n",
    "        utils.clean_isolated_nodes(graph)\n",
    "        graph = utils.fix_connectivity(graph)\n",
    "        graphs_list[i] = graph\n",
    "        nodes_size_list[i] = nx.number_of_nodes(graph)\n",
    "        edges_size_list[i] = nx.number_of_edges(graph)\n",
    "        degree_values = [x[1] for x in graph.degree()]\n",
    "        sum_of_edges = sum(degree_values) / float(nx.number_of_nodes(graph))\n",
    "        avg_degree_list[i] = sum_of_edges\n",
    "        last_graph = graph\n"
   ]
  },
  {
   "cell_type": "code",
   "execution_count": null,
   "metadata": {},
   "outputs": [],
   "source": [
    "for i, graph in enumerate(graphs_list):\n",
    "    eccentricity_values = [x[1] for x in nx.eccentricity(graph).items()]\n",
    "    max_eccentricity = max(eccentricity_values)\n",
    "    min_eccentricity = min(eccentricity_values)\n",
    "    eccentricity_list[i] = (max_eccentricity, min_eccentricity)\n",
    "\n",
    "plt.plot(eccentricity_list)\n",
    "plt.savefig('eccentricity.png', bbox_inches='tight')\n",
    "plt.show()"
   ]
  },
  {
   "cell_type": "code",
   "execution_count": null,
   "metadata": {},
   "outputs": [],
   "source": [
    "plt.plot(avg_degree_list)\n",
    "plt.ylabel('Avg degree')\n",
    "plt.savefig('avg_degree.png', bbox_inches='tight')\n",
    "plt.show()"
   ]
  },
  {
   "cell_type": "code",
   "execution_count": null,
   "metadata": {},
   "outputs": [],
   "source": [
    "plt.plot(nodes_size_list)\n",
    "plt.ylabel('Number of nodes')\n",
    "plt.savefig('number_of_nodes.png', bbox_inches='tight')\n",
    "plt.show()"
   ]
  },
  {
   "cell_type": "code",
   "execution_count": null,
   "metadata": {},
   "outputs": [],
   "source": [
    "plt.plot(edges_size_list)\n",
    "plt.ylabel('Number of edges')\n",
    "plt.savefig('number_of_edges.png', bbox_inches='tight') \n",
    "plt.show()"
   ]
  },
  {
   "cell_type": "code",
   "execution_count": null,
   "metadata": {},
   "outputs": [],
   "source": [
    "for i, graph in enumerate(graphs_list):\n",
    "    distance_list[i] = nx.diameter(graph)\n",
    "\n",
    "plt.plot(distance_list)\n",
    "plt.ylabel('Distance')\n",
    "plt.savefig('distance.png', bbox_inches='tight')\n",
    "plt.show()"
   ]
  },
  {
   "cell_type": "markdown",
   "metadata": {},
   "source": [
    "Calculate the Betweenness Centrality measures for all the snapshot of the network. Returns the subgraph of those network with the most important nodes (BC value greater than 3 times the mean) along with the values returned by the betweenness centality.\n",
    "\n",
    "Then plots the percentage of important nodes (and their respective edges) wrt the total number of nodes and edges.\n",
    "**Average duration for 15 snapshots: 5 mins.**"
   ]
  },
  {
   "cell_type": "code",
   "execution_count": null,
   "metadata": {},
   "outputs": [],
   "source": [
    "for i, graph in enumerate(graphs_list):\n",
    "    betweenness_centrality_lists[i] = utils.important_nodes(graph)\n",
    "\n",
    "nodes_ratio_betweenness_centrality = [None] * len(betweenness_centrality_lists)\n",
    "edges_ratio_betweenness_centrality = [None] * len(betweenness_centrality_lists)\n",
    "\n",
    "for i, elem in enumerate(betweenness_centrality_lists):\n",
    "    nodes_ratio_betweenness_centrality[i] = elem[0].number_of_nodes() * 100.0 / nodes_size_list[i]\n",
    "    edges_ratio_betweenness_centrality[i] = elem[0].number_of_edges() * 100.0 / edges_size_list[i]\n",
    "\n",
    "plt.plot(nodes_ratio_betweenness_centrality, 'r--')\n",
    "plt.plot(edges_ratio_betweenness_centrality, 'b')\n",
    "plt.show()"
   ]
  },
  {
   "cell_type": "markdown",
   "metadata": {},
   "source": [
    "Calculates k-vertex connectivity, this task is CPU intensive. Average of 5 mins per snapshot."
   ]
  },
  {
   "cell_type": "code",
   "execution_count": null,
   "metadata": {},
   "outputs": [],
   "source": [
    "new_path = r'D:\\Documenti\\Lightning Network Plots\\k_conn'\n",
    "if not os.path.exists(new_path):\n",
    "    os.makedirs(new_path)\n",
    "os.chdir(new_path)\n",
    "start = time.time()\n",
    "for i, graph in enumerate(graphs_list): \n",
    "    k_connectivity_list[i] = conn.k_components(graph)\n",
    "    end = time.time()\n",
    "    for key in k_connectivity_list[i].keys():\n",
    "        for j in range(len(k_connectivity_list[i][key])):\n",
    "            k_connectivity_list[i][key][j] = list(k_connectivity_list[i][key][j])\n",
    "    with open('k_conn_' + str(i) + '.json', 'w') as f:\n",
    "        json.dump(k_connectivity_list[i], f, indent=4)\n",
    "    elapsed = end - start\n",
    "    print('Task number ' + str(i) + ' finished in ' + str(elapsed) + ' seconds.')"
   ]
  }
 ],
 "metadata": {
  "kernelspec": {
   "display_name": "Python 3",
   "language": "python",
   "name": "python3"
  },
  "language_info": {
   "codemirror_mode": {
    "name": "ipython",
    "version": 3
   },
   "file_extension": ".py",
   "mimetype": "text/x-python",
   "name": "python",
   "nbconvert_exporter": "python",
   "pygments_lexer": "ipython3",
   "version": "3.6.5"
  }
 },
 "nbformat": 4,
 "nbformat_minor": 1
}
