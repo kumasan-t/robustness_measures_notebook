{
 "cells": [
  {
   "cell_type": "code",
   "execution_count": null,
   "metadata": {},
   "outputs": [],
   "source": [
    "%matplotlib inline\n",
    "\n",
    "from networkx.algorithms import connectivity as conn\n",
    "from matplotlib import pyplot as plt\n",
    "from tools import plot\n",
    "import matplotlib.colors as mcolors\n",
    "from tools import utils\n",
    "import networkx as nx\n",
    "import numpy as np\n",
    "import time \n",
    "import os\n",
    "import glob\n",
    "import json\n",
    "\n",
    "os.chdir(\"D:\\Documenti\\Lightning_Network_Logs\\\\recent_logs\")\n",
    "distance_list = [None] * len(glob.glob(\"*json\"))\n",
    "k_connectivity_list = [None] * len(glob.glob(\"*json\"))\n",
    "# Sets the picture size to a proper dimension.\n",
    "plt.rcParams['figure.figsize'] = (10, 6)\n",
    "\n",
    "# Create an array of snapshots of the network\n",
    "graph_list = utils.load_graph_list(\"D:\\Documenti\\Lightning_Network_Logs\\\\recent_logs\")"
   ]
  },
  {
   "cell_type": "code",
   "execution_count": null,
   "metadata": {},
   "outputs": [],
   "source": [
    "plt.rcParams['figure.figsize'] = (10, 6)\n",
    "plot.plot_average_eccentricity(graph_list)"
   ]
  },
  {
   "cell_type": "code",
   "execution_count": null,
   "metadata": {},
   "outputs": [],
   "source": [
    "plt.rcParams['figure.figsize'] = (10, 6)\n",
    "plot.plot_average_degree(graph_list)"
   ]
  },
  {
   "cell_type": "code",
   "execution_count": null,
   "metadata": {},
   "outputs": [],
   "source": [
    "plt.rcParams['figure.figsize'] = (10, 6)\n",
    "plot.plot_number_of_nodes(graph_list)"
   ]
  },
  {
   "cell_type": "code",
   "execution_count": null,
   "metadata": {},
   "outputs": [],
   "source": [
    "plt.rcParams['figure.figsize'] = (10, 6)\n",
    "plot.plot_number_of_edges(graph_list)"
   ]
  },
  {
   "cell_type": "code",
   "execution_count": null,
   "metadata": {},
   "outputs": [],
   "source": [
    "for i, graph in enumerate(graph_list):\n",
    "    distance_list[i] = nx.diameter(graph)\n",
    "plt.rcParams['figure.figsize'] = (10, 6)\n",
    "plt.plot(distance_list)\n",
    "plt.ylabel('Distance')\n",
    "plt.savefig('distance.png', bbox_inches='tight')\n",
    "plt.show()"
   ]
  },
  {
   "cell_type": "code",
   "execution_count": null,
   "metadata": {},
   "outputs": [],
   "source": [
    "full_day_graph_list = utils.load_graph_list(r'D:\\Documenti\\Lightning_Network_Logs\\recent_logs\\full_day')"
   ]
  },
  {
   "cell_type": "code",
   "execution_count": null,
   "metadata": {},
   "outputs": [],
   "source": [
    "plt.rcParams['figure.figsize'] = (10, 6)\n",
    "plot.plot_number_of_nodes(full_day_graph_list, step=10, filename='daily_number_of_nodes.png')"
   ]
  },
  {
   "cell_type": "code",
   "execution_count": null,
   "metadata": {},
   "outputs": [],
   "source": [
    "plt.rcParams['figure.figsize'] = (10, 6)\n",
    "plot.plot_number_of_edges(full_day_graph_list, step=10, filename='daily_number_of_edges.png')\n"
   ]
  },
  {
   "cell_type": "code",
   "execution_count": null,
   "metadata": {},
   "outputs": [],
   "source": [
    "plt.rcParams['figure.figsize'] = (10, 6)\n",
    "plot.plot_average_degree(full_day_graph_list, step=10, filename='daily_average_degree.png')"
   ]
  },
  {
   "cell_type": "markdown",
   "metadata": {},
   "source": [
    "Calculate the Betweenness Centrality measures for all the snapshot of the network. Returns the subgraph of those network with the most important nodes (BC value greater than 3 times the mean) along with the values returned by the betweenness centality.\n",
    "\n",
    "Then plots the percentage of important nodes (and their respective edges) wrt the total number of nodes and edges.\n",
    "**Average duration for 15 snapshots: 5 mins.**"
   ]
  },
  {
   "cell_type": "code",
   "execution_count": null,
   "metadata": {},
   "outputs": [],
   "source": [
    "betweenness_centrality_list = [nx.betweenness_centrality(graph) for graph in graph_list]"
   ]
  },
  {
   "cell_type": "code",
   "execution_count": null,
   "metadata": {},
   "outputs": [],
   "source": [
    "daily_graph_list = utils.load_graph_list(r'D:\\Documenti\\Lightning_Network_Logs\\recent_logs\\daily')\n",
    "\n",
    "utils.betweenness_centrality_intersection(betweenness_centrality_list)\n",
    "number_of_snapshot = len(graph_list)\n",
    "\n",
    "daily_betweenness_list = [nx.betweenness_centrality(graph) for graph in daily_graph_list]\n",
    "\n",
    "# Finds the most important nodes. The evaluation is performed by aggregating the values for all the nodes and selecting\n",
    "# the most important ones.        \n",
    "betweenness_centrality_sums = betweenness_centrality_list[0].copy()\n",
    "for i in range(1, len(graph_list)):\n",
    "    for key in betweenness_centrality_sums.keys():\n",
    "        betweenness_centrality_sums[key] = betweenness_centrality_sums[key] + betweenness_centrality_list[i][key]\n",
    "\n",
    "# Sort dictionary of the sums of the betweenness centralities and sort it on their value.\n",
    "sorted_list = sorted(betweenness_centrality_sums.items(), key=lambda x: x[1], reverse=True)\n",
    "# Then select the top five nodes of the sorted list.\n",
    "top_five = [sorted_list[i][0] for i in range(5)]\n",
    "# For each snapshot of betweenness centrality, select the top 5 nodes and their values.\n",
    "top_five_list = dict()\n",
    "for item in top_five:\n",
    "    top_five_list[item] = [daily_betweenness_list[i][item] for i in range(len(daily_graph_list))]\n",
    "\n",
    "plt.rcParams['figure.figsize'] = (10, 6)\n",
    "plt.xticks(range(number_of_snapshot))\n",
    "for key in top_five_list.keys():\n",
    "    plt.plot(top_five_list[key], label=key[0: 5])\n",
    "plt.legend()\n",
    "plt.savefig('daily_betweenness_centrality.png', bbox_inches='tight')\n",
    "plt.show()\n"
   ]
  },
  {
   "cell_type": "code",
   "execution_count": null,
   "metadata": {},
   "outputs": [],
   "source": [
    "# Intersection of the nodes that persist for all the snapshots\n",
    "utils.betweenness_centrality_intersection(betweenness_centrality_list)\n",
    "number_of_snapshot = len(betweenness_centrality_list)\n",
    "\n",
    "# Finds the most important nodes. The evaluation is performed by aggregating the values for all the nodes and selecting\n",
    "# the most important ones.k_co\n",
    "betweenness_centrality_sums = betweenness_centrality_list[0].copy()\n",
    "for i in range(1, number_of_snapshot):\n",
    "    for key in betweenness_centrality_sums.keys():\n",
    "        betweenness_centrality_sums[key] = betweenness_centrality_sums[key] + betweenness_centrality_list[i][key]\n",
    "\n",
    "# Sort dictionary of the sums of the betweenness centralities and sort it on their value.\n",
    "sorted_list = sorted(betweenness_centrality_sums.items(), key=lambda x: x[1], reverse=True)\n",
    "# Then select the top five nodes of the sorted list.\n",
    "top_five = [sorted_list[i][0] for i in range(5)]\n",
    "# For each snapshot of betweenness centrality, select the top 5 nodes and their values.\n",
    "top_five_list = dict()\n",
    "for item in top_five:\n",
    "    top_five_list[item] = [betweenness_centrality_list[i][item] for i in range(number_of_snapshot)]\n",
    "\n",
    "plt.rcParams['figure.figsize'] = (10, 6)\n",
    "plt.xticks(range(number_of_snapshot))\n",
    "for key in top_five_list.keys():\n",
    "    plt.plot(top_five_list[key], label=key[0: 5])\n",
    "plt.legend()\n",
    "os.chdir(\"D:\\Documenti\\Lightning_Network_Logs\\\\recent_logs\")\n",
    "plt.savefig('weekly_betweenness_centrality.png', bbox_inches='tight')\n",
    "plt.show()"
   ]
  },
  {
   "cell_type": "code",
   "execution_count": null,
   "metadata": {},
   "outputs": [],
   "source": [
    "import collections as ct\n",
    "\n",
    "gap_dictionary = ct.defaultdict(list)\n",
    "# Builds a presence list among the top 15 nodes over the period observed\n",
    "presence_dict = utils.build_presence_dictionary(betweenness_centrality_list)\n",
    "plt.rcParams['figure.figsize'] = (10, 6)        \n",
    "for item in presence_dict:\n",
    "    start = predecessor = presence_dict[item][0]\n",
    "    for current in presence_dict[item]:\n",
    "        if current - predecessor > 1:\n",
    "            gap = predecessor - start\n",
    "            gap_dictionary[item].append((start, gap))\n",
    "            start = current\n",
    "        predecessor = current\n",
    "    gap = predecessor - start\n",
    "    gap_dictionary[item].append((start, gap))\n",
    "\n",
    "ax = plt.subplot()\n",
    "ax.set_xlim(0, 15)\n",
    "ax.set_xticks(range(15))\n",
    "ax.set_xlabel('Snapshots')\n",
    "ax.set_yticks(range(len(gap_dictionary.keys())))\n",
    "ax.set_yticklabels([item[0: 5] for item in gap_dictionary.keys()])\n",
    "for i, key in enumerate(gap_dictionary.keys()):\n",
    "    for j, gap in enumerate(gap_dictionary[key]):\n",
    "        if gap[1] == 0:\n",
    "            gap_dictionary[key][j] = (gap[0], 1)\n",
    "    ax.broken_barh(gap_dictionary[key], (i-0.5, 0.6), color='orange')\n",
    "plt.savefig('gantt_chart.png', bbox_inches='tight')\n",
    "plt.show()"
   ]
  },
  {
   "cell_type": "markdown",
   "metadata": {},
   "source": [
    "Calculates k-vertex connectivity, this task is CPU intensive. Average of 5 mins per snapshot."
   ]
  },
  {
   "cell_type": "code",
   "execution_count": null,
   "metadata": {},
   "outputs": [],
   "source": [
    "new_path = r'D:\\Documenti\\Lightning_Network_Logs\\recent_logs\\k_conn'\n",
    "if not os.path.exists(new_path):\n",
    "    os.makedirs(new_path)\n",
    "os.chdir(new_path)\n",
    "start = time.time()\n",
    "for i, graph in enumerate(graph_list): \n",
    "    k_connectivity_list[i] = conn.k_components(graph)\n",
    "    end = time.time()\n",
    "    for key in k_connectivity_list[i].keys():\n",
    "        for j in range(len(k_connectivity_list[i][key])):\n",
    "            k_connectivity_list[i][key][j] = list(k_connectivity_list[i][key][j])\n",
    "    with open('k_conn_' + str(i) + '.json', 'w') as f:\n",
    "        json.dump(k_connectivity_list[i], f, indent=4)\n",
    "    elapsed = end - start\n",
    "    print('Task number ' + str(i) + ' finished in ' + str(elapsed) + ' seconds.')"
   ]
  },
  {
   "cell_type": "code",
   "execution_count": null,
   "metadata": {},
   "outputs": [],
   "source": [
    "# If the k-vertex connectivity has already been evaluated then run this cell\n",
    "k_conn_path = r'D:\\Documenti\\Lightning_Network_Logs\\recent_logs\\k_conn'\n",
    "k_connectivity_list = utils.read_k_conn_from_files(k_conn_path)"
   ]
  },
  {
   "cell_type": "markdown",
   "metadata": {},
   "source": [
    "Calculates and plots the **average** vertex size for *k*-vertex components of the graph."
   ]
  },
  {
   "cell_type": "code",
   "execution_count": null,
   "metadata": {},
   "outputs": [],
   "source": [
    "import collections as ct\n",
    "\n",
    "# If the k-vertex connectivity has already been evaluated then run this cell\n",
    "k_conn_path = r'D:\\Documenti\\Lightning_Network_Logs\\recent_logs\\k_conn'\n",
    "k_connectivity_list = utils.read_k_conn_from_files(k_conn_path)\n",
    "\n",
    "k_vertex_size = dict()\n",
    "plt.rcParams['figure.figsize'] = (10, 6)\n",
    "\n",
    "# To calculate the average size of each component we need a counter that tells us\n",
    "# how many time such a component exists.\n",
    "# k_vertex_size[key] accumulates the size of each k_component.\n",
    "# key_counter[key] accumulates how many times we have such a component.\n",
    "key_counter = ct.defaultdict(int)\n",
    "for i in range(len(k_connectivity_list)):\n",
    "    for key in k_connectivity_list[i].keys():\n",
    "        if i == 0:\n",
    "            k_vertex_size[key] = len(k_connectivity_list[i][key][0])\n",
    "        else:\n",
    "            k_vertex_size[key] += len(k_connectivity_list[i][key][0])\n",
    "        key_counter[key] += 1\n",
    "\n",
    "# Inverted sorted list of number of nodes averages.\n",
    "k_vertex_size = sorted([k_vertex_size[key] / key_counter[key] for key in k_vertex_size.keys()], reverse=True)\n",
    "plt.xticks(np.arange(len(k_connectivity_list[0].keys())),\n",
    "           sorted(np.arange(1, len(k_connectivity_list[0].keys()) + 1)))\n",
    "for i, elem in enumerate(k_vertex_size):\n",
    "    plt.bar(i, k_vertex_size[i], 0.7, align='center')\n",
    "    \n",
    "# Plot a blue dashed curve over the points of the size.\n",
    "plt.plot(k_vertex_size, 'b--')\n",
    "\n",
    "# Plot red dots over the spot identified by the list\n",
    "plt.plot(k_vertex_size, 'or',)\n",
    "plt.grid(True)\n",
    "plt.savefig('k_connectivity_average_size.png', bbox_inches='tight')\n",
    "plt.show()"
   ]
  },
  {
   "cell_type": "code",
   "execution_count": null,
   "metadata": {},
   "outputs": [],
   "source": [
    "k_conn_path = r'D:\\Documenti\\Lightning_Network_Logs\\recent_logs\\k_conn'\n",
    "k_connectivity_list = utils.read_k_conn_from_files(k_conn_path)\n",
    "# Increase the size of the plot\n",
    "plt.rcParams['figure.figsize'] = (10, 6)\n",
    "\n",
    "betweenness_top_nodes = utils.get_betweenness_top_nodes(betweenness_centrality_list)\n",
    "number_of_snapshot = len(k_connectivity_list)\n",
    "\n",
    "# Select the max values of the keys for each snapshot, convert it to string.\n",
    "max_keys = list()\n",
    "for x in range(number_of_snapshot):\n",
    "    max_keys.append(str(max([int(value) for value in k_connectivity_list[x].keys()])))\n",
    "\n",
    "plt.yticks(np.arange(0, 51, 2))\n",
    "for i in range(number_of_snapshot):\n",
    "    intersect = k_connectivity_list[i][max_keys[i]][0] & betweenness_top_nodes\n",
    "    plt.bar(i, len(k_connectivity_list[i][max_keys[i]][0]), 0.7, align='center', color='lightblue')\n",
    "    plt.bar(i, len(intersect), 0.7, align='center', color='orange')\n",
    "    plt.xticks(np.arange(number_of_snapshot), np.arange(1, number_of_snapshot+1))\n",
    "plt.savefig('k_connectivity_top_fifteen_betweenness_centrality.png', bbox_inches='tight')\n",
    "plt.show()"
   ]
  },
  {
   "cell_type": "code",
   "execution_count": null,
   "metadata": {},
   "outputs": [],
   "source": [
    "start = time.time()\n",
    "cutsets = [None] * len(graph_list)\n",
    "for i, graph in enumerate(graph_list): \n",
    "    cutsets[i] = nx.all_node_cuts(graph)\n",
    "    end = time.time()\n",
    "    elapsed = end - start\n",
    "    print('Task number ' + str(i) + ' finished in ' + str(elapsed) + ' seconds.')"
   ]
  }
 ],
 "metadata": {
  "kernelspec": {
   "display_name": "Python 3",
   "language": "python",
   "name": "python3"
  },
  "language_info": {
   "codemirror_mode": {
    "name": "ipython",
    "version": 3
   },
   "file_extension": ".py",
   "mimetype": "text/x-python",
   "name": "python",
   "nbconvert_exporter": "python",
   "pygments_lexer": "ipython3",
   "version": "3.6.5"
  }
 },
 "nbformat": 4,
 "nbformat_minor": 1
}
